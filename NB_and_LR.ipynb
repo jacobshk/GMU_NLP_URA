{
  "nbformat": 4,
  "nbformat_minor": 0,
  "metadata": {
    "colab": {
      "provenance": [],
      "include_colab_link": true
    },
    "kernelspec": {
      "name": "python3",
      "display_name": "Python 3"
    },
    "language_info": {
      "name": "python"
    }
  },
  "cells": [
    {
      "cell_type": "markdown",
      "metadata": {
        "id": "view-in-github",
        "colab_type": "text"
      },
      "source": [
        "<a href=\"https://colab.research.google.com/github/jacobshk/GMU_NLP_URA/blob/main/NB_and_LR.ipynb\" target=\"_parent\"><img src=\"https://colab.research.google.com/assets/colab-badge.svg\" alt=\"Open In Colab\"/></a>"
      ]
    },
    {
      "cell_type": "code",
      "execution_count": null,
      "metadata": {
        "id": "aje-sk3aUoRg"
      },
      "outputs": [],
      "source": [
        "import pandas as pd\n",
        "from sklearn.model_selection import train_test_split\n",
        "from sklearn.feature_extraction.text import TfidfVectorizer\n",
        "from sklearn.naive_bayes import MultinomialNB\n",
        "from sklearn.linear_model import LogisticRegression\n",
        "from sklearn.metrics import accuracy_score, classification_report\n",
        "\n",
        "# Load dataset (assuming CSV format for this example)\n",
        "data = pd.read_csv('dataset.csv')\n",
        "\n",
        "# Split dataset into training and testing sets\n",
        "X_train, X_test, y_train, y_test = train_test_split(data['text'], data['label'], test_size=0.2, random_state=42)\n",
        "\n",
        "\n"
      ]
    },
    {
      "cell_type": "code",
      "source": [
        "\n",
        "# Transform text data using TF-IDF vectorizer\n",
        "vectorizer = TfidfVectorizer(stop_words='english')\n",
        "X_train_transformed = vectorizer.fit_transform(X_train)\n",
        "X_test_transformed = vectorizer.transform(X_test)\n",
        "\n"
      ],
      "metadata": {
        "id": "SdGs3dpuUr6U"
      },
      "execution_count": null,
      "outputs": []
    },
    {
      "cell_type": "code",
      "source": [
        "# Naive Bayes classification\n",
        "nb_classifier = MultinomialNB()\n",
        "nb_classifier.fit(X_train_transformed, y_train)\n",
        "nb_predictions = nb_classifier.predict(X_test_transformed)\n",
        "print(\"Naive Bayes Accuracy:\", accuracy_score(y_test, nb_predictions))\n",
        "print(\"Naive Bayes Classification Report:\")\n",
        "print(classification_report(y_test, nb_predictions))\n",
        "\n"
      ],
      "metadata": {
        "id": "binuuLEwUtgq"
      },
      "execution_count": null,
      "outputs": []
    },
    {
      "cell_type": "code",
      "source": [
        "# Logistic Regression classification\n",
        "logreg_classifier = LogisticRegression(max_iter=10000)  # setting max_iter to a large value for convergence\n",
        "logreg_classifier.fit(X_train_transformed, y_train)\n",
        "logreg_predictions = logreg_classifier.predict(X_test_transformed)\n",
        "print(\"\\nLogistic Regression Accuracy:\", accuracy_score(y_test, logreg_predictions))\n",
        "print(\"Logistic Regression Classification Report:\")\n",
        "print(classification_report(y_test, logreg_predictions))"
      ],
      "metadata": {
        "id": "nXU-J5IdUwXY"
      },
      "execution_count": null,
      "outputs": []
    }
  ]
}